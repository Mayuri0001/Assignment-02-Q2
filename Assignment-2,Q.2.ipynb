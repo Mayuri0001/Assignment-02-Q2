{
 "cells": [
  {
   "cell_type": "markdown",
   "id": "3456da37",
   "metadata": {},
   "source": [
    "**Q2. WRITE A PYTHON PROGRAM TO PRINT A DICTIONARY WHOSE KEYS SHOULD BE THE ALPHABET FROM a-z & THE VALUE SHOULD BE CORRESPONDIND ASCII VALUE.**"
   ]
  },
  {
   "cell_type": "code",
   "execution_count": 2,
   "id": "79acf499",
   "metadata": {},
   "outputs": [
    {
     "name": "stdout",
     "output_type": "stream",
     "text": [
      "{'a': 97, 'b': 98, 'c': 99, 'd': 100, 'e': 101, 'f': 102, 'g': 103, 'h': 104, 'i': 105, 'j': 106, 'k': 107, 'l': 108, 'm': 109, 'n': 110, 'o': 111, 'p': 112, 'q': 113, 'r': 114, 's': 115, 't': 116, 'u': 117, 'v': 118, 'w': 119, 'x': 120, 'y': 121, 'z': 122}\n"
     ]
    }
   ],
   "source": [
    "dict_one = {}\n",
    "for i in range(ord(\"a\"),ord(\"z\")+1):\n",
    "    dict_one[chr(i)] = i\n",
    "print(dict_one)"
   ]
  },
  {
   "cell_type": "code",
   "execution_count": null,
   "id": "0c6a74e5",
   "metadata": {},
   "outputs": [],
   "source": []
  }
 ],
 "metadata": {
  "kernelspec": {
   "display_name": "Python 3 (ipykernel)",
   "language": "python",
   "name": "python3"
  },
  "language_info": {
   "codemirror_mode": {
    "name": "ipython",
    "version": 3
   },
   "file_extension": ".py",
   "mimetype": "text/x-python",
   "name": "python",
   "nbconvert_exporter": "python",
   "pygments_lexer": "ipython3",
   "version": "3.10.2"
  }
 },
 "nbformat": 4,
 "nbformat_minor": 5
}
